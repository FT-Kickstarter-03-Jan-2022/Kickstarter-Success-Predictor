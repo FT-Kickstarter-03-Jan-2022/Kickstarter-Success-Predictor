{
 "cells": [
  {
   "cell_type": "code",
   "execution_count": 15,
   "metadata": {},
   "outputs": [],
   "source": [
    "import pandas as pd\n",
    "import numpy as np\n",
    "from sklearn.preprocessing import MaxAbsScaler\n",
    "from sklearn.preprocessing import OneHotEncoder\n",
    "from sklearn.model_selection import train_test_split, GridSearchCV\n",
    "from sklearn.ensemble import GradientBoostingClassifier\n",
    "from sklearn.metrics import classification_report\n",
    "import pickle\n"
   ]
  },
  {
   "cell_type": "code",
   "execution_count": 16,
   "metadata": {},
   "outputs": [],
   "source": [
    "df= pd.read_csv('kickstarter2.csv')"
   ]
  },
  {
   "cell_type": "code",
   "execution_count": 17,
   "metadata": {},
   "outputs": [],
   "source": [
    "\n",
    "\n",
    "df.set_index(['month_created'], inplace=True)\n",
    "df['status']=df['status'].map({'successful':1, 'failed':0 }).astype(float)\n",
    "df['staff_pick']=df['staff_pick'].astype(int)\n",
    "df['spotlight']=df['spotlight'].astype(int)"
   ]
  },
  {
   "cell_type": "code",
   "execution_count": 18,
   "metadata": {},
   "outputs": [],
   "source": [
    "target = 'status'\n",
    "y = df[target]\n",
    "X = df.drop(columns=target)"
   ]
  },
  {
   "cell_type": "code",
   "execution_count": 19,
   "metadata": {},
   "outputs": [],
   "source": [
    "X_train, X_val, y_train, y_val = train_test_split(X, y, test_size=0.2, random_state=42)"
   ]
  },
  {
   "cell_type": "code",
   "execution_count": 20,
   "metadata": {},
   "outputs": [],
   "source": [
    "XtrainEn = X_train.select_dtypes(include=[object])\n",
    "X_valEn = X_val.select_dtypes(include=[object])"
   ]
  },
  {
   "cell_type": "code",
   "execution_count": 21,
   "metadata": {},
   "outputs": [],
   "source": [
    "enc = OneHotEncoder(handle_unknown='ignore')\n",
    "\n",
    "enc.fit(XtrainEn)\n",
    "enc.fit(X_valEn)\n",
    "\n",
    "X_trainOH = enc.transform(XtrainEn).toarray()\n",
    "X_valOH = enc.transform(X_valEn).toarray()\n"
   ]
  },
  {
   "cell_type": "code",
   "execution_count": 22,
   "metadata": {},
   "outputs": [],
   "source": [
    "X_valencoded = pd.DataFrame(X_valOH)\n",
    "X_trainencoded = pd.DataFrame(X_trainOH)\n",
    " "
   ]
  },
  {
   "cell_type": "code",
   "execution_count": 23,
   "metadata": {},
   "outputs": [],
   "source": [
    "X_trainencoded['index'] = range(1, len(X_trainencoded)+1)\n",
    "X_train['index'] = range(1, len(X_train)+1)\n",
    "X_valencoded['index'] = range(1, len(X_valencoded)+1)\n",
    "X_val['index'] = range(1, len(X_val)+1)\n",
    "X_train.set_index(['index'], inplace=True)\n",
    "X_val.set_index(['index'], inplace=True)\n",
    "X_trainencoded.set_index(['index'], inplace=True)\n",
    "X_valencoded.set_index(['index'], inplace=True)\n",
    "X_train.drop('country_code', axis=1, inplace=True)\n",
    "X_train.drop('category', axis=1, inplace=True)\n",
    "X_train.drop('currency_code', axis=1, inplace=True)\n",
    "X_val.drop('country_code', axis=1, inplace=True)\n",
    "X_val.drop('category', axis=1, inplace=True)\n",
    "X_val.drop('currency_code', axis=1, inplace=True)\n",
    "X_train_new=pd.concat([X_train, X_trainencoded],axis=1)\n",
    "X_val_new=pd.concat([X_val, X_valencoded], axis=1)\n",
    "\n"
   ]
  },
  {
   "cell_type": "code",
   "execution_count": 24,
   "metadata": {},
   "outputs": [
    {
     "name": "stderr",
     "output_type": "stream",
     "text": [
      "C:\\Users\\O_O_O\\.virtualenvs\\Datum-7gjrdNBa\\lib\\site-packages\\sklearn\\utils\\validation.py:1688: FutureWarning: Feature names only support names that are all strings. Got feature names with dtypes: ['int', 'str']. An error will be raised in 1.2.\n",
      "  warnings.warn(\n",
      "C:\\Users\\O_O_O\\.virtualenvs\\Datum-7gjrdNBa\\lib\\site-packages\\sklearn\\utils\\validation.py:1688: FutureWarning: Feature names only support names that are all strings. Got feature names with dtypes: ['int', 'str']. An error will be raised in 1.2.\n",
      "  warnings.warn(\n",
      "C:\\Users\\O_O_O\\.virtualenvs\\Datum-7gjrdNBa\\lib\\site-packages\\sklearn\\utils\\validation.py:1688: FutureWarning: Feature names only support names that are all strings. Got feature names with dtypes: ['int', 'str']. An error will be raised in 1.2.\n",
      "  warnings.warn(\n",
      "C:\\Users\\O_O_O\\.virtualenvs\\Datum-7gjrdNBa\\lib\\site-packages\\sklearn\\utils\\validation.py:1688: FutureWarning: Feature names only support names that are all strings. Got feature names with dtypes: ['int', 'str']. An error will be raised in 1.2.\n",
      "  warnings.warn(\n"
     ]
    }
   ],
   "source": [
    "\n",
    " scaler=MaxAbsScaler()\n",
    " X_train_scaled = scaler.fit_transform(X_train_new)\n",
    " X_val_scaled = scaler.fit_transform(X_val_new)"
   ]
  },
  {
   "cell_type": "code",
   "execution_count": 30,
   "metadata": {},
   "outputs": [
    {
     "name": "stdout",
     "output_type": "stream",
     "text": [
      "              precision    recall  f1-score   support\n",
      "\n",
      "         0.0      0.988     0.924     0.955     15589\n",
      "         1.0      0.952     0.993     0.972     23590\n",
      "\n",
      "    accuracy                          0.965     39179\n",
      "   macro avg      0.970     0.958     0.963     39179\n",
      "weighted avg      0.966     0.965     0.965     39179\n",
      "\n"
     ]
    }
   ],
   "source": [
    "grb_classifier = GradientBoostingClassifier(n_estimators=40, learning_rate=0.5, max_features=3, max_depth=6, random_state=0)\n",
    "grb_model=grb_classifier.fit(X_train_scaled, y_train)\n",
    "\n",
    "y_pred_grb = grb_model.predict(X_val_scaled)\n",
    "\n",
    "print(classification_report(y_val, y_pred_grb, digits=3))\n"
   ]
  },
  {
   "cell_type": "code",
   "execution_count": 26,
   "metadata": {},
   "outputs": [],
   "source": [
    "\n",
    "with open('grb_pickle', 'wb') as f:\n",
    "    pickle.dump(grb_model, f)\n"
   ]
  },
  {
   "cell_type": "code",
   "execution_count": null,
   "metadata": {},
   "outputs": [],
   "source": [
    "def input_wrangle():\n",
    "    "
   ]
  }
 ],
 "metadata": {
  "interpreter": {
   "hash": "0cadb2fb0474fc61b63991b13631083dce58bf3a1f11dbf0202f7603d9145211"
  },
  "kernelspec": {
   "display_name": "Python 3.9.7 64-bit ('myenv': conda)",
   "language": "python",
   "name": "python3"
  },
  "language_info": {
   "codemirror_mode": {
    "name": "ipython",
    "version": 3
   },
   "file_extension": ".py",
   "mimetype": "text/x-python",
   "name": "python",
   "nbconvert_exporter": "python",
   "pygments_lexer": "ipython3",
   "version": "3.10.0"
  },
  "orig_nbformat": 4
 },
 "nbformat": 4,
 "nbformat_minor": 2
}
